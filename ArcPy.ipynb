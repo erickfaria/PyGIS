{
 "cells": [
  {
   "cell_type": "markdown",
   "id": "apart-element",
   "metadata": {},
   "source": [
    "### Introduction to ArcPY"
   ]
  },
  {
   "cell_type": "raw",
   "id": "centered-installation",
   "metadata": {},
   "source": [
    "ArcPy is the most flexible and easy way to use all the features of the famous ArcGis program using the Python language. It is an intuitive and very powerful way to automate routines and facilitate work in GIS. The following document is a brief introduction to how to use the package in the Jupyter Lab."
   ]
  },
  {
   "cell_type": "code",
   "execution_count": null,
   "id": "impressed-george",
   "metadata": {},
   "outputs": [],
   "source": [
    "# importing packages\n",
    "\n",
    "import arcpy as arc # I like to use as arc, because it's more easyto write. Choose what you want."
   ]
  },
  {
   "cell_type": "code",
   "execution_count": null,
   "id": "excited-flexibility",
   "metadata": {},
   "outputs": [],
   "source": [
    "# choose the  workspace environment (the folder of the project)\n",
    "arcpy.env.workspace = 'PATH' # The path of the folder. \n",
    "\n",
    "arcpy.Clip_analysis('file.shp') # Write here the name of the file (usually shp)"
   ]
  },
  {
   "cell_type": "code",
   "execution_count": null,
   "id": "running-expense",
   "metadata": {},
   "outputs": [],
   "source": []
  }
 ],
 "metadata": {
  "kernelspec": {
   "display_name": "Python 3",
   "language": "python",
   "name": "python3"
  },
  "language_info": {
   "codemirror_mode": {
    "name": "ipython",
    "version": 3
   },
   "file_extension": ".py",
   "mimetype": "text/x-python",
   "name": "python",
   "nbconvert_exporter": "python",
   "pygments_lexer": "ipython3",
   "version": "3.8.5"
  }
 },
 "nbformat": 4,
 "nbformat_minor": 5
}
